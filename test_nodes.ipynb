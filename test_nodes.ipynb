{
 "cells": [
  {
   "cell_type": "code",
   "execution_count": 35,
   "id": "2137b4ee-491b-4e60-8c7e-faf0ec42df66",
   "metadata": {},
   "outputs": [],
   "source": [
    "import networkx as nx\n",
    "import numpy as np"
   ]
  },
  {
   "cell_type": "code",
   "execution_count": 19,
   "id": "cf83a893-930b-4d8c-a756-d654171c2ab7",
   "metadata": {},
   "outputs": [],
   "source": [
    "padding = 0.25\n",
    "poster = 1+2*padding"
   ]
  },
  {
   "cell_type": "code",
   "execution_count": 25,
   "id": "b37fbdb7-8c5a-4ca6-8e63-d2416407469f",
   "metadata": {},
   "outputs": [],
   "source": [
    "l = 10\n",
    "w = 6\n",
    "\n",
    "llcp = (7, 68)\n",
    "dp = (13, 68)"
   ]
  },
  {
   "cell_type": "code",
   "execution_count": 41,
   "id": "79685c6b-4ad8-4c2f-8446-3b28fa0069b4",
   "metadata": {},
   "outputs": [],
   "source": [
    "x_oriented = True if l > w else False"
   ]
  },
  {
   "cell_type": "code",
   "execution_count": 94,
   "id": "a2d0c35b-4f93-4542-b0f3-285267a28c9e",
   "metadata": {},
   "outputs": [],
   "source": [
    "def create_rows():\n",
    "    if x_oriented:\n",
    "        n_x_poster = l//(2*poster)+1\n",
    "        n_y_poster = w//poster-1\n",
    "    else:\n",
    "        n_y_poster = w//(2*poster)+1\n",
    "        n_x_poster = l//poster-1\n",
    "    return (n_x_poster, n_y_poster)"
   ]
  },
  {
   "cell_type": "code",
   "execution_count": 95,
   "id": "072d3af0-de17-4cb2-9881-74f5fecb591f",
   "metadata": {},
   "outputs": [],
   "source": [
    "n_x, n_y = create_rows()"
   ]
  },
  {
   "cell_type": "code",
   "execution_count": 96,
   "id": "d84c5b22-67da-4232-a795-1fd614674b67",
   "metadata": {},
   "outputs": [
    {
     "name": "stdout",
     "output_type": "stream",
     "text": [
      "4.0 3.0\n"
     ]
    }
   ],
   "source": [
    "print(n_x,n_y)"
   ]
  },
  {
   "cell_type": "code",
   "execution_count": 101,
   "id": "6d26b621-91bd-4d32-9b54-a7dd942748cb",
   "metadata": {},
   "outputs": [],
   "source": [
    "x_spacing = np.linspace(llcp[0], (n_x-1)*2*poster+llcp[0], int(n_x))\n",
    "y_spacing = np.linspace(llcp[1]+0.5+0.5*poster, llcp[1]+w-0.5-0.5*poster, int(n_y))"
   ]
  },
  {
   "cell_type": "code",
   "execution_count": 102,
   "id": "5e0ddabb-45cb-4cdb-a61e-0376fea2735d",
   "metadata": {},
   "outputs": [
    {
     "name": "stdout",
     "output_type": "stream",
     "text": [
      "[ 7. 10. 13. 16.]\n",
      "[69.25 71.   72.75]\n"
     ]
    }
   ],
   "source": [
    "print(f\"{x_spacing}\\n{y_spacing}\")"
   ]
  },
  {
   "cell_type": "code",
   "execution_count": 103,
   "id": "cc8cdead-dc4f-4038-9c24-ffb28f3fc173",
   "metadata": {},
   "outputs": [],
   "source": [
    "x_bottom_nodes = []\n",
    "x_top_nodes = []\n",
    "for x_position in x_spacing:\n",
    "    new_tuple = (x_position, (y_spacing[0]+llcp[1])/2)\n",
    "    x_bottom_nodes.append(new_tuple)\n",
    "    new_tuple = (x_position, (y_spacing[-1]+llcp[1]+w)/2)\n",
    "    x_top_nodes.append(new_tuple)"
   ]
  },
  {
   "cell_type": "code",
   "execution_count": 104,
   "id": "a0d6a68a-9597-4a4b-9ee4-26a0c9f74432",
   "metadata": {},
   "outputs": [
    {
     "name": "stdout",
     "output_type": "stream",
     "text": [
      "[(7.0, 73.375), (10.0, 73.375), (13.0, 73.375), (16.0, 73.375)]\n"
     ]
    }
   ],
   "source": [
    "print(x_top_nodes)"
   ]
  },
  {
   "cell_type": "code",
   "execution_count": 124,
   "id": "2f9701ad-fe8a-43e6-bda3-288cced927b8",
   "metadata": {},
   "outputs": [],
   "source": [
    "dict_of_poster_rows = {}\n",
    "for index, x_position in enumerate(x_spacing):\n",
    "    dict_of_poster_rows[index] = {}\n",
    "    dict_of_poster_rows[index][\"l\"] = []\n",
    "    if index == 0:\n",
    "        dict_of_poster_rows[index].pop(\"l\")\n",
    "    dict_of_poster_rows[index][\"r\"] = []\n",
    "    if (index == len(x_spacing)-1 and llcp[0]+l-x_position < poster):\n",
    "        dict_of_poster_rows[index].pop(\"r\")\n",
    "    for y_position in y_spacing:\n",
    "        try:\n",
    "            dict_of_poster_rows[index][\"l\"].append((x_position-poster/2,y_position))\n",
    "        except:\n",
    "            pass\n",
    "        try:\n",
    "            dict_of_poster_rows[index][\"r\"].append((x_position+poster/2,y_position))\n",
    "        except:\n",
    "            pass"
   ]
  },
  {
   "cell_type": "code",
   "execution_count": 125,
   "id": "23d10704-1fb8-4084-ab5a-4e9e66af9ef9",
   "metadata": {},
   "outputs": [
    {
     "name": "stdout",
     "output_type": "stream",
     "text": [
      "{0: {'r': [(7.75, 69.25), (7.75, 71.0), (7.75, 72.75)]}, 1: {'l': [(9.25, 69.25), (9.25, 71.0), (9.25, 72.75)], 'r': [(10.75, 69.25), (10.75, 71.0), (10.75, 72.75)]}, 2: {'l': [(12.25, 69.25), (12.25, 71.0), (12.25, 72.75)], 'r': [(13.75, 69.25), (13.75, 71.0), (13.75, 72.75)]}, 3: {'l': [(15.25, 69.25), (15.25, 71.0), (15.25, 72.75)]}}\n"
     ]
    }
   ],
   "source": [
    "print(dict_of_poster_rows)"
   ]
  },
  {
   "cell_type": "code",
   "execution_count": null,
   "id": "80bf20e8-a4fc-462f-8cf8-749109004692",
   "metadata": {},
   "outputs": [],
   "source": []
  }
 ],
 "metadata": {
  "kernelspec": {
   "display_name": "Python [conda env:hackathon]",
   "language": "python",
   "name": "conda-env-hackathon-py"
  },
  "language_info": {
   "codemirror_mode": {
    "name": "ipython",
    "version": 3
   },
   "file_extension": ".py",
   "mimetype": "text/x-python",
   "name": "python",
   "nbconvert_exporter": "python",
   "pygments_lexer": "ipython3",
   "version": "3.11.4"
  }
 },
 "nbformat": 4,
 "nbformat_minor": 5
}
